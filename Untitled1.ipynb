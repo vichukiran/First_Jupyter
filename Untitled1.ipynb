{
 "cells": [
  {
   "cell_type": "markdown",
   "id": "1de25942",
   "metadata": {},
   "source": [
    "# My Jupyter Notebook on IBM Watson Studio\n",
    "\n",
    "\n",
    "\n",
    "\n",
    "\n",
    "\n",
    "\n",
    "\n"
   ]
  },
  {
   "cell_type": "markdown",
   "id": "d2643d11",
   "metadata": {},
   "source": [
    "#### Kiran Chittoori\n"
   ]
  },
  {
   "cell_type": "markdown",
   "id": "17b281e9",
   "metadata": {},
   "source": [
    "Engineer"
   ]
  },
  {
   "cell_type": "markdown",
   "id": "bf932784",
   "metadata": {},
   "source": [
    "##### I love data science because its facts"
   ]
  },
  {
   "cell_type": "markdown",
   "id": "c1eaea5f",
   "metadata": {},
   "source": [
    "### following code prints 0 through 10"
   ]
  },
  {
   "cell_type": "code",
   "execution_count": 7,
   "id": "681f104f",
   "metadata": {},
   "outputs": [
    {
     "name": "stdout",
     "output_type": "stream",
     "text": [
      "0\n",
      "1\n",
      "2\n",
      "3\n",
      "4\n",
      "5\n",
      "6\n",
      "7\n",
      "8\n",
      "9\n"
     ]
    }
   ],
   "source": [
    "for i in range(10):\n",
    "    print(i)\n",
    "\n"
   ]
  },
  {
   "cell_type": "code",
   "execution_count": null,
   "id": "4bf838ac",
   "metadata": {},
   "outputs": [],
   "source": []
  }
 ],
 "metadata": {
  "kernelspec": {
   "display_name": "Python 3",
   "language": "python",
   "name": "python3"
  },
  "language_info": {
   "codemirror_mode": {
    "name": "ipython",
    "version": 3
   },
   "file_extension": ".py",
   "mimetype": "text/x-python",
   "name": "python",
   "nbconvert_exporter": "python",
   "pygments_lexer": "ipython3",
   "version": "3.8.8"
  }
 },
 "nbformat": 4,
 "nbformat_minor": 5
}
