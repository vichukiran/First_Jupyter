{
 "cells": [
  {
   "cell_type": "markdown",
   "id": "6a3defaf",
   "metadata": {},
   "source": [
    "# My Jupyter Notebook on IBM Watson Studio\n",
    "\n",
    "\n",
    "\n",
    "\n",
    "\n",
    "\n",
    "\n",
    "\n"
   ]
  },
  {
   "cell_type": "markdown",
   "id": "23bcf349",
   "metadata": {},
   "source": [
    "#### Kiran Chittoori\n"
   ]
  },
  {
   "cell_type": "markdown",
   "id": "5f54d1d1",
   "metadata": {},
   "source": [
    "Engineer"
   ]
  },
  {
   "cell_type": "markdown",
   "id": "804097bc",
   "metadata": {},
   "source": [
    "##### I love data science because its facts"
   ]
  },
  {
   "cell_type": "markdown",
   "id": "c21ba958",
   "metadata": {},
   "source": [
    "### following code prints 0 through 10"
   ]
  },
  {
   "cell_type": "code",
   "execution_count": 18,
   "id": "681f104f",
   "metadata": {},
   "outputs": [
    {
     "name": "stdout",
     "output_type": "stream",
     "text": [
      "0\n",
      "1\n",
      "2\n",
      "3\n",
      "4\n",
      "5\n",
      "6\n",
      "7\n",
      "8\n",
      "9\n"
     ]
    }
   ],
   "source": [
    "for i in range(10):\n",
    "    print(i)\n",
    "\n"
   ]
  },
  {
   "cell_type": "markdown",
   "id": "82f99d4d",
   "metadata": {},
   "source": [
    "1. one\n",
    "2. two\n",
    "3. three"
   ]
  },
  {
   "cell_type": "markdown",
   "id": "6d1370c4",
   "metadata": {},
   "source": [
    "~~thi is markdown and striketrhrough~~\n",
    "\n",
    "horizontal rule\n",
    "***\n"
   ]
  },
  {
   "cell_type": "markdown",
   "id": "48dbd497",
   "metadata": {},
   "source": [
    "hyperlink -\n",
    "https://github.com/vichukiran/First_Jupyter"
   ]
  },
  {
   "cell_type": "code",
   "execution_count": null,
   "id": "bb66af27",
   "metadata": {},
   "outputs": [],
   "source": []
  }
 ],
 "metadata": {
  "kernelspec": {
   "display_name": "Python 3",
   "language": "python",
   "name": "python3"
  },
  "language_info": {
   "codemirror_mode": {
    "name": "ipython",
    "version": 3
   },
   "file_extension": ".py",
   "mimetype": "text/x-python",
   "name": "python",
   "nbconvert_exporter": "python",
   "pygments_lexer": "ipython3",
   "version": "3.8.8"
  }
 },
 "nbformat": 4,
 "nbformat_minor": 5
}
